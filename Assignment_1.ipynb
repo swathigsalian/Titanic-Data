{
  "nbformat": 4,
  "nbformat_minor": 0,
  "metadata": {
    "colab": {
      "name": "Assignment-1.ipynb",
      "provenance": [],
      "authorship_tag": "ABX9TyN4Q4vMX5SzzdiOLAg2BV0T",
      "include_colab_link": true
    },
    "kernelspec": {
      "name": "python3",
      "display_name": "Python 3"
    }
  },
  "cells": [
    {
      "cell_type": "markdown",
      "metadata": {
        "id": "view-in-github",
        "colab_type": "text"
      },
      "source": [
        "<a href=\"https://colab.research.google.com/github/swathigsalian/Titanic-Data/blob/master/Assignment_1.ipynb\" target=\"_parent\"><img src=\"https://colab.research.google.com/assets/colab-badge.svg\" alt=\"Open In Colab\"/></a>"
      ]
    },
    {
      "cell_type": "code",
      "metadata": {
        "id": "6EhPjrlFtJoO",
        "colab_type": "code",
        "colab": {}
      },
      "source": [
        "\n",
        "import pandas as pd"
      ],
      "execution_count": 0,
      "outputs": []
    },
    {
      "cell_type": "code",
      "metadata": {
        "id": "CE_uILT4Us5G",
        "colab_type": "code",
        "colab": {}
      },
      "source": [
        "df =pd.read_csv('train.csv')\n",
        "df"
      ],
      "execution_count": 0,
      "outputs": []
    },
    {
      "cell_type": "code",
      "metadata": {
        "id": "2RamzMeqU5oB",
        "colab_type": "code",
        "colab": {}
      },
      "source": [
        "df.drop('PassengerId',axis = 1,inplace=True)"
      ],
      "execution_count": 0,
      "outputs": []
    },
    {
      "cell_type": "code",
      "metadata": {
        "id": "HzOjel_aVR1m",
        "colab_type": "code",
        "colab": {}
      },
      "source": [
        "df.drop('Name',axis = 1,inplace=True)"
      ],
      "execution_count": 0,
      "outputs": []
    },
    {
      "cell_type": "code",
      "metadata": {
        "id": "3Uv1mcv0Vmdz",
        "colab_type": "code",
        "colab": {}
      },
      "source": [
        "df.drop('Ticket',axis = 1,inplace =True)"
      ],
      "execution_count": 0,
      "outputs": []
    },
    {
      "cell_type": "code",
      "metadata": {
        "id": "4gz0Toq5Vt4z",
        "colab_type": "code",
        "colab": {}
      },
      "source": [
        "df.drop('Cabin',axis = 1,inplace =True)"
      ],
      "execution_count": 0,
      "outputs": []
    },
    {
      "cell_type": "code",
      "metadata": {
        "id": "-G0h5BgiV4Um",
        "colab_type": "code",
        "colab": {}
      },
      "source": [
        "df"
      ],
      "execution_count": 0,
      "outputs": []
    },
    {
      "cell_type": "code",
      "metadata": {
        "id": "nnFAWUFoV543",
        "colab_type": "code",
        "colab": {}
      },
      "source": [
        "cabin =df['Age']"
      ],
      "execution_count": 0,
      "outputs": []
    },
    {
      "cell_type": "code",
      "metadata": {
        "id": "HyDd2hz7WBFo",
        "colab_type": "code",
        "colab": {}
      },
      "source": [
        "\n",
        "cabin.isnull().sum()"
      ],
      "execution_count": 0,
      "outputs": []
    },
    {
      "cell_type": "code",
      "metadata": {
        "id": "cNlDXg3lWGjn",
        "colab_type": "code",
        "colab": {}
      },
      "source": [
        "perc = (cabin.isnull().sum()/len(df)*1.0)*100\n",
        "perc"
      ],
      "execution_count": 0,
      "outputs": []
    },
    {
      "cell_type": "code",
      "metadata": {
        "id": "WjvRKBEBWS84",
        "colab_type": "code",
        "colab": {}
      },
      "source": [
        "emb =df['Embarked']"
      ],
      "execution_count": 0,
      "outputs": []
    },
    {
      "cell_type": "code",
      "metadata": {
        "id": "cJeCS0huWeNJ",
        "colab_type": "code",
        "colab": {}
      },
      "source": [
        "emb.value_counts()"
      ],
      "execution_count": 0,
      "outputs": []
    },
    {
      "cell_type": "code",
      "metadata": {
        "id": "u-Y9qRUEWi7h",
        "colab_type": "code",
        "colab": {}
      },
      "source": [
        "644+168+77"
      ],
      "execution_count": 0,
      "outputs": []
    },
    {
      "cell_type": "code",
      "metadata": {
        "id": "-0EP-Qf_WmyH",
        "colab_type": "code",
        "colab": {}
      },
      "source": [
        "emb.isnull().sum()"
      ],
      "execution_count": 0,
      "outputs": []
    },
    {
      "cell_type": "code",
      "metadata": {
        "id": "09Rn-N5MWrlG",
        "colab_type": "code",
        "colab": {}
      },
      "source": [
        "df['Embarked'].fillna('S',inplace=True)"
      ],
      "execution_count": 0,
      "outputs": []
    },
    {
      "cell_type": "code",
      "metadata": {
        "id": "EyCOjM_UW_J6",
        "colab_type": "code",
        "colab": {}
      },
      "source": [
        "df['Embarked'].isnull().sum()"
      ],
      "execution_count": 0,
      "outputs": []
    },
    {
      "cell_type": "code",
      "metadata": {
        "id": "MpEfsigqXHUV",
        "colab_type": "code",
        "colab": {}
      },
      "source": [
        "pc = df.groupby('Embarked').mean()\n",
        "pc"
      ],
      "execution_count": 0,
      "outputs": []
    },
    {
      "cell_type": "code",
      "metadata": {
        "id": "hdW5xNiqXORm",
        "colab_type": "code",
        "colab": {}
      },
      "source": [
        "import matplotlib.pyplot as plt\n",
        "pc['Survived'].plot.bar(color = 'y')\n",
        "plt.ylabel('Survival chances')\n",
        "plt.show()"
      ],
      "execution_count": 0,
      "outputs": []
    },
    {
      "cell_type": "code",
      "metadata": {
        "id": "WUrU49tvXtjY",
        "colab_type": "code",
        "colab": {}
      },
      "source": [
        "pc['Age'].plot.bar(color ='r')\n",
        "plt.ylabel('Survived chances')\n",
        "plt.show()"
      ],
      "execution_count": 0,
      "outputs": []
    },
    {
      "cell_type": "code",
      "metadata": {
        "id": "KfvhTpg2YJlU",
        "colab_type": "code",
        "colab": {}
      },
      "source": [
        "age =df.groupby(['Age'])['Survived'].mean()\n",
        "age"
      ],
      "execution_count": 0,
      "outputs": []
    },
    {
      "cell_type": "code",
      "metadata": {
        "id": "P4OZED64YWCz",
        "colab_type": "code",
        "colab": {}
      },
      "source": [
        "age =df.groupby('Age').sum()\n",
        "age"
      ],
      "execution_count": 0,
      "outputs": []
    },
    {
      "cell_type": "code",
      "metadata": {
        "id": "5ky-lbBjYf5-",
        "colab_type": "code",
        "colab": {}
      },
      "source": [
        "import matplotlib.pyplot as plt\n",
        "age['Pclass'].plot.area(color ='g')\n",
        "plt.ylabel('class')\n",
        "plt.show()"
      ],
      "execution_count": 0,
      "outputs": []
    },
    {
      "cell_type": "code",
      "metadata": {
        "id": "qKzdQhLQY-14",
        "colab_type": "code",
        "colab": {}
      },
      "source": [
        "import matplotlib.pyplot as plt\n",
        "age['Fare'].plot.line(color = 'k')\n",
        "plt.ylabel('fare')\n",
        "plt.show()"
      ],
      "execution_count": 0,
      "outputs": []
    },
    {
      "cell_type": "code",
      "metadata": {
        "id": "eYcju8zjZilQ",
        "colab_type": "code",
        "colab": {}
      },
      "source": [
        "smf = df.groupby(['Sex','Age']).mean()\n",
        "smf"
      ],
      "execution_count": 0,
      "outputs": []
    },
    {
      "cell_type": "code",
      "metadata": {
        "id": "AXKeZ7MLZwVi",
        "colab_type": "code",
        "colab": {}
      },
      "source": [
        "smf = df.groupby('Sex').mean()\n",
        "smf"
      ],
      "execution_count": 0,
      "outputs": []
    },
    {
      "cell_type": "code",
      "metadata": {
        "id": "N5kJKPLTaheK",
        "colab_type": "code",
        "colab": {}
      },
      "source": [
        "age = df.groupby(['SibSp','Age']).sum()\n",
        "age"
      ],
      "execution_count": 0,
      "outputs": []
    },
    {
      "cell_type": "code",
      "metadata": {
        "id": "wMYB7TgvaugP",
        "colab_type": "code",
        "colab": {}
      },
      "source": [
        "import matplotlib.pyplot as plt\n",
        "age['Survived'].plot.line(color = 'g')\n",
        "plt.ylabel('Survived')\n",
        "plt.show()"
      ],
      "execution_count": 0,
      "outputs": []
    },
    {
      "cell_type": "code",
      "metadata": {
        "id": "iYLYXclHbIWg",
        "colab_type": "code",
        "colab": {}
      },
      "source": [
        "df['SibSp'].isnull().sum()"
      ],
      "execution_count": 0,
      "outputs": []
    },
    {
      "cell_type": "code",
      "metadata": {
        "id": "Lggj56iZbQNJ",
        "colab_type": "code",
        "colab": {}
      },
      "source": [
        "df['Parch'].isnull().sum()"
      ],
      "execution_count": 0,
      "outputs": []
    },
    {
      "cell_type": "code",
      "metadata": {
        "id": "knZwCM6obbT5",
        "colab_type": "code",
        "colab": {}
      },
      "source": [
        "cp = df.groupby(['SibSp','Parch']).mean()\n",
        "cp"
      ],
      "execution_count": 0,
      "outputs": []
    },
    {
      "cell_type": "code",
      "metadata": {
        "id": "XPiO1hPqbk68",
        "colab_type": "code",
        "colab": {}
      },
      "source": [
        "import matplotlib.pyplot as plt\n",
        "cp['Survived'].plot.line(color ='b')\n",
        "plt.ylabel('Survived')\n",
        "plt.show()"
      ],
      "execution_count": 0,
      "outputs": []
    },
    {
      "cell_type": "code",
      "metadata": {
        "id": "84pWfBdCb7to",
        "colab_type": "code",
        "colab": {}
      },
      "source": [
        ""
      ],
      "execution_count": 0,
      "outputs": []
    }
  ]
}